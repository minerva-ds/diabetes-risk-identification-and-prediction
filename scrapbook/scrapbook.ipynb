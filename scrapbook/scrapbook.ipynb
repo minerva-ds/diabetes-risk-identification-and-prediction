{
 "cells": [
  {
   "cell_type": "code",
   "execution_count": null,
   "metadata": {},
   "outputs": [],
   "source": []
  },
  {
   "cell_type": "markdown",
   "metadata": {},
   "source": [
    "### Compare _binned to non binned\n",
    "\n",
    "#### 1. **PhysHlth vs. PhysHlth_binned:**\n",
    "   - **Correlation with Target:**\n",
    "     - **PhysHlth**: 0.16\n",
    "     - **PhysHlth_binned**: 0.15\n",
    "   - **Feature Importance:**\n",
    "     - **PhysHlth**: Higher in importance than `PhysHlth_binned`.\n",
    "\n",
    "   **Conclusion:** **PhysHlth** is stronger.\n",
    "\n",
    "#### 2. **MentHlth vs. MentHlth_binned:**\n",
    "   - **Correlation with Target:**\n",
    "     - **MentHlth**: 0.033\n",
    "     - **MentHlth_binned**: 0.059\n",
    "   - **Feature Importance:**\n",
    "     - **MentHlth_binned**: Higher in importance than `MentHlth`.\n",
    "\n",
    "   **Conclusion:** **MentHlth_binned** is stronger.\n",
    "\n",
    "#### 3. **Income vs. Income_binned:**\n",
    "   - **Correlation with Target:**\n",
    "     - **Income**: 0.14\n",
    "     - **Income_binned**: 0.14\n",
    "   - **Feature Importance:**\n",
    "     - **Income_binned**: Higher in importance than `Income`.\n",
    "\n",
    "   **Conclusion:** **Income_binned** is stronger.\n",
    "\n",
    "#### 4. **Education vs. Education_binned:**\n",
    "   - **Correlation with Target:**\n",
    "     - **Education**: 0.11\n",
    "     - **Education_binned**: 0.11\n",
    "   - **Feature Importance:**\n",
    "     - **Education_binned**: Higher in importance than `Education`.\n",
    "\n",
    "   **Conclusion:** **Education_binned** is stronger.\n",
    "\n",
    "#### Overall Comparison:\n",
    "- **Stronger When Binned**: `MentHlth`, `Income`, and `Education` have stronger predictive power when binned.\n",
    "- **Stronger in Original Form**: `PhysHlth` is slightly stronger in its original form.\n",
    "\n",
    "#### Summary:\n",
    "Most of the binned features (`MentHlth_binned`, `Income_binned`, and `Education_binned`) perform better than being unbinned with the exception of `PhysHlth`.  Since the change to `PhysHlth` is small, and it helps class imbalance a lot, I will be using it binned too and drop the original columns."
   ]
  }
 ],
 "metadata": {
  "language_info": {
   "name": "python"
  }
 },
 "nbformat": 4,
 "nbformat_minor": 2
}
